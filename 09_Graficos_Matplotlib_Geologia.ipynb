{
 "cells": [
  {
   "cell_type": "markdown",
   "id": "a1b50e2b",
   "metadata": {},
   "source": [
    "# Gráficos básicos con matplotlib — Rafa González Gouveia\n",
    "Adaptado con ejemplos geológicos"
   ]
  },
  {
   "cell_type": "markdown",
   "id": "111e631e",
   "metadata": {},
   "source": [
    "En este notebook aprenderás a crear los siguientes gráficos en Python usando `matplotlib`:\n",
    "\n",
    "1. Gráficos de líneas y de puntos (`line` y `scatter`)\n",
    "2. Gráficos de barras (`bar`)\n",
    "3. Gráficos de pastel o torta (`pie`)\n",
    "\n",
    "Todos los ejemplos están adaptados a situaciones comunes en geología, como análisis geoquímico o visualización de distribución de muestras.\n"
   ]
  },
  {
   "cell_type": "markdown",
   "id": "a048c4ac",
   "metadata": {},
   "source": [
    "## Paso 0 - Cargar datos y librerías"
   ]
  },
  {
   "cell_type": "code",
   "execution_count": null,
   "id": "aa582146",
   "metadata": {},
   "outputs": [],
   "source": [
    "import pandas as pd\n",
    "import matplotlib.pyplot as plt\n",
    "\n",
    "# DataFrame simulado: muestras de diferentes localidades\n",
    "df_geo = pd.DataFrame({\n",
    "    'Localidad': ['Nevados', 'Faja Plegada', 'Bloque Norte', 'Sistema de Fallas', 'Meseta Central'],\n",
    "    'SiO2': [64.2, 58.7, 49.1, 54.3, 60.0],\n",
    "    'Pertenece_a_Grupo': [True, False, True, False, True],\n",
    "    'Año': [2021, 2019, 2020, 2022, 2021]\n",
    "})\n",
    "df_geo"
   ]
  },
  {
   "cell_type": "markdown",
   "id": "b4b9d0a2",
   "metadata": {},
   "source": [
    "## Punto 1 - Gráficos de línea y de puntos"
   ]
  },
  {
   "cell_type": "markdown",
   "id": "41286d38",
   "metadata": {},
   "source": [
    "Los gráficos de línea y scatter (puntos) se utilizan para visualizar tendencias o comparaciones entre dos variables.\n",
    "\n",
    "En geología, por ejemplo, podríamos querer ver cómo varía el contenido de SiO₂ entre distintas localidades muestreadas.\n"
   ]
  },
  {
   "cell_type": "code",
   "execution_count": null,
   "id": "47eb484e",
   "metadata": {},
   "outputs": [],
   "source": [
    "# Gráfico de línea: SiO2 por Localidad\n",
    "plt.plot(df_geo['Localidad'], df_geo['SiO2'])\n",
    "plt.title('Contenido de SiO₂ por Localidad')\n",
    "plt.xlabel('Localidad')\n",
    "plt.ylabel('SiO₂ (%)')\n",
    "plt.show()"
   ]
  },
  {
   "cell_type": "code",
   "execution_count": null,
   "id": "93dd560c",
   "metadata": {},
   "outputs": [],
   "source": [
    "# Gráfico de puntos (scatter)\n",
    "plt.scatter(df_geo['Localidad'], df_geo['SiO2'])\n",
    "plt.title('Contenido de SiO₂ por Localidad (Puntos)')\n",
    "plt.xlabel('Localidad')\n",
    "plt.ylabel('SiO₂ (%)')\n",
    "plt.show()"
   ]
  },
  {
   "cell_type": "markdown",
   "id": "a15c39d0",
   "metadata": {},
   "source": [
    "## Punto 2 - Gráfico de barras"
   ]
  },
  {
   "cell_type": "markdown",
   "id": "67a1fbf0",
   "metadata": {},
   "source": [
    "Los gráficos de barras son ideales para representar **valores absolutos** por categoría, como cantidades o promedios por localidad.\n",
    "\n",
    "Son muy utilizados para mostrar comparaciones claras y comprensibles, por ejemplo, cantidad de muestras recolectadas por zona o porcentaje de ciertos óxidos.\n"
   ]
  },
  {
   "cell_type": "code",
   "execution_count": null,
   "id": "9814ca98",
   "metadata": {},
   "outputs": [],
   "source": [
    "# Ordenamos por contenido de SiO2\n",
    "df_ordenado = df_geo.sort_values('SiO2', ascending=False)\n",
    "\n",
    "# Gráfico de barras\n",
    "plt.bar(df_ordenado['Localidad'], df_ordenado['SiO2'])\n",
    "plt.title('Contenido de SiO₂ ordenado por Localidad')\n",
    "plt.xlabel('Localidad')\n",
    "plt.ylabel('SiO₂ (%)')\n",
    "plt.show()"
   ]
  },
  {
   "cell_type": "markdown",
   "id": "67a79fac",
   "metadata": {},
   "source": [
    "Podemos también personalizar los colores:"
   ]
  },
  {
   "cell_type": "code",
   "execution_count": null,
   "id": "78be9107",
   "metadata": {},
   "outputs": [],
   "source": [
    "colores = ['green', 'blue', 'orange', 'red', 'purple']\n",
    "plt.bar(df_ordenado['Localidad'], df_ordenado['SiO2'], color=colores)\n",
    "plt.title('Contenido de SiO₂ por Localidad (colores personalizados)')\n",
    "plt.xlabel('Localidad')\n",
    "plt.ylabel('SiO₂ (%)')\n",
    "plt.show()"
   ]
  },
  {
   "cell_type": "markdown",
   "id": "c2ed7aa6",
   "metadata": {},
   "source": [
    "## Punto 3 - Gráfico de pastel (torta/pie)"
   ]
  },
  {
   "cell_type": "markdown",
   "id": "b82393e0",
   "metadata": {},
   "source": [
    "Los gráficos de torta muestran la proporción de un total, útil por ejemplo para mostrar qué porcentaje de muestras provienen de cada localidad.\n",
    "\n",
    "⚠️ **Advertencia:** no siempre son recomendables porque las proporciones pueden parecer similares visualmente.\n"
   ]
  },
  {
   "cell_type": "code",
   "execution_count": null,
   "id": "e3e72624",
   "metadata": {},
   "outputs": [],
   "source": [
    "# Gráfico de pastel básico\n",
    "plt.pie(df_geo['SiO2'], labels=df_geo['Localidad'])\n",
    "plt.title('Distribución de SiO₂ entre Localidades')\n",
    "plt.show()"
   ]
  },
  {
   "cell_type": "markdown",
   "id": "c01b10d1",
   "metadata": {},
   "source": [
    "También se pueden personalizar los colores con códigos hexadecimales:"
   ]
  },
  {
   "cell_type": "code",
   "execution_count": null,
   "id": "19cb9928",
   "metadata": {},
   "outputs": [],
   "source": [
    "colores_hex = ['#2ecc71', '#3498db', '#e67e22', '#e74c3c', '#9b59b6']\n",
    "\n",
    "plt.pie(df_geo['SiO2'], labels=df_geo['Localidad'], colors=colores_hex)\n",
    "plt.title('Distribución de SiO₂ entre Localidades (colores personalizados)')\n",
    "plt.show()"
   ]
  },
  {
   "cell_type": "markdown",
   "id": "df85c803",
   "metadata": {},
   "source": [
    "## 🧪 Ejercicio geológico"
   ]
  },
  {
   "cell_type": "markdown",
   "id": "411e2c27",
   "metadata": {},
   "source": [
    "1. Crea un `DataFrame` con al menos 5 muestras y columnas: `Muestra`, `MgO`, `CaO`, `Ubicación`.\n",
    "2. Generá un gráfico de puntos (`scatter`) entre `CaO` y `MgO`.\n",
    "3. Hacé un gráfico de barras del contenido de `CaO` ordenado de mayor a menor.\n",
    "4. Hacé una gráfica de pastel que muestre qué porcentaje del total de `CaO` representa cada muestra.\n",
    "\n",
    "> Este tipo de visualizaciones es ideal para informes técnicos y tesis!\n"
   ]
  }
 ],
 "metadata": {},
 "nbformat": 4,
 "nbformat_minor": 5
}